{
 "cells": [
  {
   "cell_type": "markdown",
   "id": "750cc394",
   "metadata": {},
   "source": [
    "# - 주제"
   ]
  },
  {
   "cell_type": "markdown",
   "id": "b7ae53cf",
   "metadata": {},
   "source": [
    "예술가별 예술작품 분류는 이미지 처리 및 머신러닝의 전통적인 접근방식으로 꾸준히 연구되는 주제입니다.\n",
    "\n",
    "예술작품의 일부분만으로 올바르게 예술가 분류가 가능해야 합니다.\n",
    "\n",
    "본 프로젝트에서는 DACON 예술작품 화가 분류 AI 경진대회에 참여하여 진행했습니다."
   ]
  },
  {
   "cell_type": "markdown",
   "id": "802bddda",
   "metadata": {},
   "source": [
    "# - 전개 순서\n",
    "### Ⅰ. 데이터 전처리\n",
    "\n",
    "DACON AI 경진대회에서 제공하는 이미지 데이터를 사용합니다.\n",
    "\n",
    "예술가별 작품 개수 분포가 극단적인 형태를 보이기 때문에 데이터 불균형을 해결합니다.\n",
    "\n",
    "ImageDataGenerator를 활용하여 이미지를 증폭시킵니다.\n",
    "\n",
    "### Ⅱ. 모델 설계\n",
    "\n",
    "전이학습 모델을 데이터셋에 맞게 수정하고 개선합니다.\n",
    "\n",
    "StratifiedKFold와 Noisy Student를 활용하여 모델의 성능을 높입니다.\n",
    "\n",
    "### Ⅲ. 학습 결과 소프트 보팅\n",
    "\n",
    "StratifiedKFold에서 지정한 split의 횟수만큼 예측값을 저장합니다.\n",
    "\n",
    "저장한 예측값을 모두 더하여 soft voting으로 결과를 도출합니다."
   ]
  },
  {
   "cell_type": "markdown",
   "id": "87aed3d6",
   "metadata": {
    "id": "87aed3d6"
   },
   "source": [
    "# - 라이브러리"
   ]
  },
  {
   "cell_type": "code",
   "execution_count": 3,
   "id": "50KtqEmDHrIP",
   "metadata": {
    "id": "50KtqEmDHrIP"
   },
   "outputs": [],
   "source": [
    "# 기본\n",
    "import numpy as np\n",
    "import pandas as pd\n",
    "\n",
    "import os\n",
    "import glob\n",
    "import shutil\n",
    "\n",
    "import math\n",
    "import random\n",
    "\n",
    "import matplotlib.pyplot as plt\n",
    "import seaborn as sns\n",
    "import cv2\n",
    "\n",
    "# 이미지 수정\n",
    "import albumentations as A\n",
    "from albumentations.pytorch.transforms import ToTensorV2\n",
    "\n",
    "# noisy student\n",
    "import timm\n",
    "\n",
    "# sklearn\n",
    "import sklearn\n",
    "from sklearn import preprocessing\n",
    "from sklearn.model_selection import train_test_split\n",
    "from sklearn.metrics import f1_score\n",
    "\n",
    "# torch\n",
    "import torch\n",
    "import torch.nn as nn\n",
    "import torch.optim as optim\n",
    "import torch.nn.functional as F\n",
    "from torch.utils.data import Dataset, DataLoader\n",
    "from torch.optim.lr_scheduler import ReduceLROnPlateau, CosineAnnealingLR, StepLR\n",
    "\n",
    "import torchvision.models as models\n",
    "\n",
    "# 진행상황 보기\n",
    "from tqdm.auto import tqdm\n",
    "\n",
    "# warning 알림 끄기\n",
    "import warnings\n",
    "warnings.filterwarnings(action='ignore')"
   ]
  },
  {
   "cell_type": "markdown",
   "id": "bdfa4471",
   "metadata": {
    "id": "bdfa4471"
   },
   "source": [
    "# Ⅰ. 데이터 전처리"
   ]
  },
  {
   "cell_type": "code",
   "execution_count": 4,
   "id": "40c01063",
   "metadata": {
    "id": "40c01063"
   },
   "outputs": [],
   "source": [
    "train = pd.read_csv('/content/drive/MyDrive/2nd_project/data/train.csv')\n",
    "test = pd.read_csv('/content/drive/MyDrive/2nd_project/data/test.csv')"
   ]
  },
  {
   "cell_type": "markdown",
   "id": "fcd6c4f5",
   "metadata": {
    "id": "fcd6c4f5"
   },
   "source": [
    "## 1. 예술가 50명의 작품 개수 확인"
   ]
  },
  {
   "cell_type": "code",
   "execution_count": 5,
   "id": "McyGgA0WmAgQ",
   "metadata": {
    "colab": {
     "base_uri": "https://localhost:8080/"
    },
    "id": "McyGgA0WmAgQ",
    "outputId": "c7b920bd-4177-49d5-9f40-b5af7fc2fe14"
   },
   "outputs": [
    {
     "data": {
      "text/plain": [
       "Vincent van Gogh             629\n",
       "Edgar Degas                  490\n",
       "Pablo Picasso                303\n",
       "Pierre-Auguste Renoir        233\n",
       "Albrecht Du rer              220\n",
       "Paul Gauguin                 220\n",
       "Francisco Goya               204\n",
       "Rembrandt                    181\n",
       "Titian                       173\n",
       "Marc Chagall                 173\n",
       "Alfred Sisley                164\n",
       "Paul Klee                    142\n",
       "Rene Magritte                137\n",
       "Amedeo Modigliani            132\n",
       "Andy Warhol                  132\n",
       "Henri Matisse                121\n",
       "Sandro Botticelli            120\n",
       "Mikhail Vrubel               118\n",
       "Hieronymus Bosch             115\n",
       "Leonardo da Vinci            101\n",
       "Salvador Dali                 99\n",
       "Peter Paul Rubens             97\n",
       "Kazimir Malevich              91\n",
       "Pieter Bruegel                85\n",
       "Frida Kahlo                   84\n",
       "Diego Velazquez               81\n",
       "Joan Miro                     76\n",
       "Andrei Rublev                 74\n",
       "Raphael                       73\n",
       "Giotto di Bondone             72\n",
       "Gustav Klimt                  69\n",
       "El Greco                      65\n",
       "Camille Pissarro              64\n",
       "Jan van Eyck                  64\n",
       "Edouard Manet                 62\n",
       "Henri de Toulouse-Lautrec     61\n",
       "Vasiliy Kandinskiy            60\n",
       "Piet Mondrian                 59\n",
       "Claude Monet                  59\n",
       "Henri Rousseau                52\n",
       "Diego Rivera                  50\n",
       "Edvard Munch                  44\n",
       "William Turner                44\n",
       "Gustave Courbet               42\n",
       "Michelangelo                  34\n",
       "Paul Cezanne                  33\n",
       "Caravaggio                    32\n",
       "Georges Seurat                30\n",
       "Eugene Delacroix              26\n",
       "Jackson Pollock               21\n",
       "Name: artist, dtype: int64"
      ]
     },
     "execution_count": 5,
     "metadata": {},
     "output_type": "execute_result"
    }
   ],
   "source": [
    "train['artist'].value_counts()"
   ]
  },
  {
   "cell_type": "code",
   "execution_count": 6,
   "id": "WwVCCJBofRPs",
   "metadata": {
    "id": "WwVCCJBofRPs"
   },
   "outputs": [],
   "source": [
    "# 예술가별 작품 개수 데이터프레임 생성\n",
    "df_cnt = train.groupby(['artist'])['id'].count()\n",
    "df_cnt.sort_values(ascending=False, inplace=True)\n",
    "df_cnt = pd.DataFrame(df_cnt)\n",
    "df_cnt.reset_index(inplace=True)\n",
    "df_cnt.columns = ['artist', 'count']"
   ]
  },
  {
   "cell_type": "code",
   "execution_count": 7,
   "id": "0da3fbda",
   "metadata": {
    "colab": {
     "base_uri": "https://localhost:8080/",
     "height": 877
    },
    "id": "0da3fbda",
    "outputId": "8080531f-da95-4458-804b-e9f9ab5614d0",
    "scrolled": false
   },
   "outputs": [
    {
     "data": {
      "image/png": "[encoded data removed]",
      "text/plain": [
       "<Figure size 720x1080 with 1 Axes>"
      ]
     },
     "metadata": {
      "needs_background": "light"
     },
     "output_type": "display_data"
    }
   ],
   "source": [
    "plt.figure(figsize=(10, 15))\n",
    "sns.barplot(data=df_cnt, x='count', y='artist')\n",
    "plt.show()"
   ]
  },
  {
   "cell_type": "markdown",
   "id": "bc8d6acb",
   "metadata": {
    "id": "bc8d6acb"
   },
   "source": [
    "예술가 1명당 약 120개의 예술작품이 분배되어 있는 것이 이상적이지만 데이터를 확인한 결과 매우 불균형하게 분포되어 있습니다.\n",
    "\n",
    "작품의 개수가 현저하게 적은 예술가의 경우, ImageDataGenerator 활용하여 작품의 개수를 증가시킬 것입니다.\n",
    "\n",
    "작품의 개수가 평균보다 많은 예술가의 경우, 작품의 개수를 의도적으로 줄일 것입니다.\n",
    "\n",
    "예술가별 작품 개수의 평균에 가까운 수치인 115를 기준으로 정했습니다."
   ]
  },
  {
   "cell_type": "markdown",
   "id": "424a6750",
   "metadata": {
    "id": "424a6750"
   },
   "source": [
    "## 2. 작품 개수의 불균형 해소"
   ]
  },
  {
   "cell_type": "markdown",
   "id": "60a4ad9d",
   "metadata": {
    "id": "60a4ad9d"
   },
   "source": [
    "### - 리스트 생성"
   ]
  },
  {
   "cell_type": "code",
   "execution_count": 8,
   "id": "496801ae",
   "metadata": {
    "id": "496801ae"
   },
   "outputs": [],
   "source": [
    "# 작품 개수 115개 이상인 예술가 리스트\n",
    "over_115 = list(df_cnt['artist'][df_cnt['count'] >= 115])\n",
    "over_115.sort()"
   ]
  },
  {
   "cell_type": "code",
   "execution_count": 9,
   "id": "1350cb61",
   "metadata": {
    "id": "1350cb61"
   },
   "outputs": [],
   "source": [
    "# 작품 개수가 115개 이하인 예술가 리스트\n",
    "under_115 = list(df_cnt['artist'][df_cnt['count'] < 115])\n",
    "under_115.sort()"
   ]
  },
  {
   "cell_type": "markdown",
   "id": "804e7f69",
   "metadata": {
    "id": "804e7f69"
   },
   "source": [
    "### - 작품 개수가 115개 이상인 예술가"
   ]
  },
  {
   "cell_type": "code",
   "execution_count": 10,
   "id": "6759cc3d",
   "metadata": {
    "id": "6759cc3d"
   },
   "outputs": [],
   "source": [
    "# 예술가별 작품 115개를 추출해서 데이터프레임을 만드는 함수\n",
    "# file : 데이터를 추출할 데이터프레임\n",
    "# artist_list : 예술가 리스트\n",
    "# a, b : 슬라이싱 위치\n",
    "def DF_slicing(file, artist_list, a, b):\n",
    "    train_idx = pd.DataFrame()\n",
    "\n",
    "    for name in artist_list:\n",
    "        train_idx = pd.concat([train_idx, file.loc[file['artist'] == name].reset_index(drop=True).iloc[a:b]])\n",
    "\n",
    "    return train_idx"
   ]
  },
  {
   "cell_type": "code",
   "execution_count": 11,
   "id": "6d0278c0",
   "metadata": {
    "id": "6d0278c0"
   },
   "outputs": [],
   "source": [
    "# 작품 개수가 115개 이상인 예술가들의 작품을 115개씩 모아놓은 데이터프레임\n",
    "train_o115 = DF_slicing(train, over_115, 0, 115)\n",
    "train_o115['img_path'] = train_o115['img_path'].apply(lambda x:'/content/drive/MyDrive/2nd_project' + x[1:])\n",
    "train_o115.reset_index(drop=True, inplace=True)\n",
    "train_o115 = train_o115.iloc[:, 1:]"
   ]
  },
  {
   "cell_type": "code",
   "execution_count": 12,
   "id": "c35f0af9",
   "metadata": {
    "colab": {
     "base_uri": "https://localhost:8080/"
    },
    "id": "c35f0af9",
    "outputId": "aa10df54-6ec1-49e1-e76e-6019f76152d6",
    "scrolled": false
   },
   "outputs": [
    {
     "data": {
      "text/plain": [
       "(2185, 2)"
      ]
     },
     "execution_count": 12,
     "metadata": {},
     "output_type": "execute_result"
    }
   ],
   "source": [
    "train_o115.shape"
   ]
  },
  {
   "cell_type": "code",
   "execution_count": 13,
   "id": "EXJw_qhgJPEa",
   "metadata": {
    "colab": {
     "base_uri": "https://localhost:8080/",
     "height": 424
    },
    "id": "EXJw_qhgJPEa",
    "outputId": "5c838730-689b-4ffe-b6fd-38d05663cae8"
   },
   "outputs": [
    {
     "data": {
      "text/html": [
       "\n",
       "  <div id=\"df-49785189-a934-4a0f-93d0-39aeec80d78d\">\n",
       "    <div class=\"colab-df-container\">\n",
       "      <div>\n",
       "<style scoped>\n",
       "    .dataframe tbody tr th:only-of-type {\n",
       "        vertical-align: middle;\n",
       "    }\n",
       "\n",
       "    .dataframe tbody tr th {\n",
       "        vertical-align: top;\n",
       "    }\n",
       "\n",
       "    .dataframe thead th {\n",
       "        text-align: right;\n",
       "    }\n",
       "</style>\n",
       "<table border=\"1\" class=\"dataframe\">\n",
       "  <thead>\n",
       "    <tr style=\"text-align: right;\">\n",
       "      <th></th>\n",
       "      <th>img_path</th>\n",
       "      <th>artist</th>\n",
       "    </tr>\n",
       "  </thead>\n",
       "  <tbody>\n",
       "    <tr>\n",
       "      <th>0</th>\n",
       "      <td>/content/drive/MyDrive/2nd_project/train/0042.jpg</td>\n",
       "      <td>Albrecht Du rer</td>\n",
       "    </tr>\n",
       "    <tr>\n",
       "      <th>1</th>\n",
       "      <td>/content/drive/MyDrive/2nd_project/train/0054.jpg</td>\n",
       "      <td>Albrecht Du rer</td>\n",
       "    </tr>\n",
       "    <tr>\n",
       "      <th>2</th>\n",
       "      <td>/content/drive/MyDrive/2nd_project/train/0058.jpg</td>\n",
       "      <td>Albrecht Du rer</td>\n",
       "    </tr>\n",
       "    <tr>\n",
       "      <th>3</th>\n",
       "      <td>/content/drive/MyDrive/2nd_project/train/0077.jpg</td>\n",
       "      <td>Albrecht Du rer</td>\n",
       "    </tr>\n",
       "    <tr>\n",
       "      <th>4</th>\n",
       "      <td>/content/drive/MyDrive/2nd_project/train/0094.jpg</td>\n",
       "      <td>Albrecht Du rer</td>\n",
       "    </tr>\n",
       "    <tr>\n",
       "      <th>...</th>\n",
       "      <td>...</td>\n",
       "      <td>...</td>\n",
       "    </tr>\n",
       "    <tr>\n",
       "      <th>2180</th>\n",
       "      <td>/content/drive/MyDrive/2nd_project/train/1021.jpg</td>\n",
       "      <td>Vincent van Gogh</td>\n",
       "    </tr>\n",
       "    <tr>\n",
       "      <th>2181</th>\n",
       "      <td>/content/drive/MyDrive/2nd_project/train/1022.jpg</td>\n",
       "      <td>Vincent van Gogh</td>\n",
       "    </tr>\n",
       "    <tr>\n",
       "      <th>2182</th>\n",
       "      <td>/content/drive/MyDrive/2nd_project/train/1025.jpg</td>\n",
       "      <td>Vincent van Gogh</td>\n",
       "    </tr>\n",
       "    <tr>\n",
       "      <th>2183</th>\n",
       "      <td>/content/drive/MyDrive/2nd_project/train/1031.jpg</td>\n",
       "      <td>Vincent van Gogh</td>\n",
       "    </tr>\n",
       "    <tr>\n",
       "      <th>2184</th>\n",
       "      <td>/content/drive/MyDrive/2nd_project/train/1043.jpg</td>\n",
       "      <td>Vincent van Gogh</td>\n",
       "    </tr>\n",
       "  </tbody>\n",
       "</table>\n",
       "<p>2185 rows × 2 columns</p>\n",
       "</div>\n",
       "      <button class=\"colab-df-convert\" onclick=\"convertToInteractive('df-49785189-a934-4a0f-93d0-39aeec80d78d')\"\n",
       "              title=\"Convert this dataframe to an interactive table.\"\n",
       "              style=\"display:none;\">\n",
       "        \n",
       "  <svg xmlns=\"http://www.w3.org/2000/svg\" height=\"24px\"viewBox=\"0 0 24 24\"\n",
       "       width=\"24px\">\n",
       "    <path d=\"M0 0h24v24H0V0z\" fill=\"none\"/>\n",
       "    <path d=\"M18.56 5.44l.94 2.06.94-2.06 2.06-.94-2.06-.94-.94-2.06-.94 2.06-2.06.94zm-11 1L8.5 8.5l.94-2.06 2.06-.94-2.06-.94L8.5 2.5l-.94 2.06-2.06.94zm10 10l.94 2.06.94-2.06 2.06-.94-2.06-.94-.94-2.06-.94 2.06-2.06.94z\"/><path d=\"M17.41 7.96l-1.37-1.37c-.4-.4-.92-.59-1.43-.59-.52 0-1.04.2-1.43.59L10.3 9.45l-7.72 7.72c-.78.78-.78 2.05 0 2.83L4 21.41c.39.39.9.59 1.41.59.51 0 1.02-.2 1.41-.59l7.78-7.78 2.81-2.81c.8-.78.8-2.07 0-2.86zM5.41 20L4 18.59l7.72-7.72 1.47 1.35L5.41 20z\"/>\n",
       "  </svg>\n",
       "      </button>\n",
       "      \n",
       "  <style>\n",
       "    .colab-df-container {\n",
       "      display:flex;\n",
       "      flex-wrap:wrap;\n",
       "      gap: 12px;\n",
       "    }\n",
       "\n",
       "    .colab-df-convert {\n",
       "      background-color: #E8F0FE;\n",
       "      border: none;\n",
       "      border-radius: 50%;\n",
       "      cursor: pointer;\n",
       "      display: none;\n",
       "      fill: #1967D2;\n",
       "      height: 32px;\n",
       "      padding: 0 0 0 0;\n",
       "      width: 32px;\n",
       "    }\n",
       "\n",
       "    .colab-df-convert:hover {\n",
       "      background-color: #E2EBFA;\n",
       "      box-shadow: 0px 1px 2px rgba(60, 64, 67, 0.3), 0px 1px 3px 1px rgba(60, 64, 67, 0.15);\n",
       "      fill: #174EA6;\n",
       "    }\n",
       "\n",
       "    [theme=dark] .colab-df-convert {\n",
       "      background-color: #3B4455;\n",
       "      fill: #D2E3FC;\n",
       "    }\n",
       "\n",
       "    [theme=dark] .colab-df-convert:hover {\n",
       "      background-color: #434B5C;\n",
       "      box-shadow: 0px 1px 3px 1px rgba(0, 0, 0, 0.15);\n",
       "      filter: drop-shadow(0px 1px 2px rgba(0, 0, 0, 0.3));\n",
       "      fill: #FFFFFF;\n",
       "    }\n",
       "  </style>\n",
       "\n",
       "      <script>\n",
       "        const buttonEl =\n",
       "          document.querySelector('#df-49785189-a934-4a0f-93d0-39aeec80d78d button.colab-df-convert');\n",
       "        buttonEl.style.display =\n",
       "          google.colab.kernel.accessAllowed ? 'block' : 'none';\n",
       "\n",
       "        async function convertToInteractive(key) {\n",
       "          const element = document.querySelector('#df-49785189-a934-4a0f-93d0-39aeec80d78d');\n",
       "          const dataTable =\n",
       "            await google.colab.kernel.invokeFunction('convertToInteractive',\n",
       "                                                     [key], {});\n",
       "          if (!dataTable) return;\n",
       "\n",
       "          const docLinkHtml = 'Like what you see? Visit the ' +\n",
       "            '<a target=\"_blank\" href=https://colab.research.google.com/notebooks/data_table.ipynb>data table notebook</a>'\n",
       "            + ' to learn more about interactive tables.';\n",
       "          element.innerHTML = '';\n",
       "          dataTable['output_type'] = 'display_data';\n",
       "          await google.colab.output.renderOutput(dataTable, element);\n",
       "          const docLink = document.createElement('div');\n",
       "          docLink.innerHTML = docLinkHtml;\n",
       "          element.appendChild(docLink);\n",
       "        }\n",
       "      </script>\n",
       "    </div>\n",
       "  </div>\n",
       "  "
      ],
      "text/plain": [
       "                                               img_path            artist\n",
       "0     /content/drive/MyDrive/2nd_project/train/0042.jpg   Albrecht Du rer\n",
       "1     /content/drive/MyDrive/2nd_project/train/0054.jpg   Albrecht Du rer\n",
       "2     /content/drive/MyDrive/2nd_project/train/0058.jpg   Albrecht Du rer\n",
       "3     /content/drive/MyDrive/2nd_project/train/0077.jpg   Albrecht Du rer\n",
       "4     /content/drive/MyDrive/2nd_project/train/0094.jpg   Albrecht Du rer\n",
       "...                                                 ...               ...\n",
       "2180  /content/drive/MyDrive/2nd_project/train/1021.jpg  Vincent van Gogh\n",
       "2181  /content/drive/MyDrive/2nd_project/train/1022.jpg  Vincent van Gogh\n",
       "2182  /content/drive/MyDrive/2nd_project/train/1025.jpg  Vincent van Gogh\n",
       "2183  /content/drive/MyDrive/2nd_project/train/1031.jpg  Vincent van Gogh\n",
       "2184  /content/drive/MyDrive/2nd_project/train/1043.jpg  Vincent van Gogh\n",
       "\n",
       "[2185 rows x 2 columns]"
      ]
     },
     "execution_count": 13,
     "metadata": {},
     "output_type": "execute_result"
    }
   ],
   "source": [
    "train_o115"
   ]
  },
  {
   "cell_type": "markdown",
   "id": "709fe892",
   "metadata": {
    "id": "709fe892"
   },
   "source": [
    "### - 작품 개수가 115개 이하인 예술가"
   ]
  },
  {
   "cell_type": "code",
   "execution_count": 14,
   "id": "b49d6ee0",
   "metadata": {
    "id": "b49d6ee0",
    "scrolled": false
   },
   "outputs": [],
   "source": [
    "# 기준 데이터프레임에서 작품 개수가 115개 이하인 예술가들의 작품을 모아놓은 데이터프레임\n",
    "train_u115 = DF_slicing(train, under_115, 0, 115)\n",
    "train_u115.reset_index(drop=True, inplace=True)"
   ]
  },
  {
   "cell_type": "code",
   "execution_count": 15,
   "id": "a635e3f6",
   "metadata": {
    "colab": {
     "base_uri": "https://localhost:8080/"
    },
    "id": "a635e3f6",
    "outputId": "08d1f303-179a-4ca4-a310-07d894d3ad1c",
    "scrolled": false
   },
   "outputs": [
    {
     "data": {
      "text/plain": [
       "(1904, 3)"
      ]
     },
     "execution_count": 15,
     "metadata": {},
     "output_type": "execute_result"
    }
   ],
   "source": [
    "train_u115.shape"
   ]
  },
  {
   "cell_type": "markdown",
   "id": "q5Zp8m-qgAEH",
   "metadata": {
    "id": "q5Zp8m-qgAEH"
   },
   "source": [
    "분류가 잘 수행되었는지 직접 확인하기 위해 작품 개수가 115개 이하인 예술가들의 폴더를 생성합니다.\n",
    "\n",
    "→ 예술가별 폴더에 해당 예술가의 작품을 분류합니다.\n",
    "\n",
    "→ ImageDataGenerator를 활용하여 115개를 기준으로 작품 개수를 증폭시켜서 저장합니다.\n",
    "\n",
    "→ 증폭된 데이터를 활용하여 작품 개수가 115개 이하인 예술가들의 데이터프레임을 생성합니다."
   ]
  },
  {
   "cell_type": "code",
   "execution_count": 16,
   "id": "babce449",
   "metadata": {
    "id": "babce449"
   },
   "outputs": [],
   "source": [
    "train_folder = '/content/drive/MyDrive/2nd_project/train/'\n",
    "files = glob.glob(train_folder + '*.*')\n",
    "\n",
    "result = []\n",
    "for file in files:\n",
    "    result.append(file.replace('\\\\', '/'))"
   ]
  },
  {
   "cell_type": "code",
   "execution_count": 17,
   "id": "346b6f39",
   "metadata": {
    "id": "346b6f39"
   },
   "outputs": [],
   "source": [
    "# 현재 경로를 2nd_project 폴더로 이동\n",
    "os.chdir('/content/drive/MyDrive/2nd_project/')\n",
    "\n",
    "# 해당 폴더 밑에 class_buckets 폴더가 없으면 생성\n",
    "if not os.path.isdir('class_buckets'):\n",
    "    os.mkdir('class_buckets')\n",
    "os.chdir('./class_buckets') # 생성한 buckets 폴더로 이동"
   ]
  },
  {
   "cell_type": "code",
   "execution_count": 18,
   "id": "ed4f7a4c",
   "metadata": {
    "id": "ed4f7a4c"
   },
   "outputs": [],
   "source": [
    "# 작품의 개수가 115개 이하인 예술가들의 폴더를 생성\n",
    "for i in range(len(under_115)):\n",
    "    if not os.path.isdir(under_115[i]):\n",
    "        os.mkdir(under_115[i])"
   ]
  },
  {
   "cell_type": "code",
   "execution_count": 19,
   "id": "84de3ae6",
   "metadata": {
    "id": "84de3ae6",
    "scrolled": true
   },
   "outputs": [],
   "source": [
    "# 리스트에서 조건에 맞는 파일을 찾으며 다른 폴더로 분류하기\n",
    "result = list(train_u115['img_path'])\n",
    "\n",
    "# 현재 경로를 2nd_project로 이동\n",
    "os.chdir('/content/drive/MyDrive/2nd_project/')\n",
    "\n",
    "for file in result:  # loop를 돌면서 리스트 안에 데이터를 하나씩 확인\n",
    "    for j in range(len(train_u115)):\n",
    "        if file == train_u115['img_path'][j]:\n",
    "            target_folder = './class_buckets/'\n",
    "            target_folder += train_u115['artist'][j]\n",
    "            shutil.copy(file, target_folder)"
   ]
  },
  {
   "cell_type": "code",
   "execution_count": 20,
   "id": "e7c7dd68",
   "metadata": {
    "id": "e7c7dd68"
   },
   "outputs": [],
   "source": [
    "# 이미지를 생성하여 특정 폴더에 저장하는 함수\n",
    "def IMG_gen(name, number, n):\n",
    "    temp = []\n",
    "\n",
    "    # 이미지의 형태를 변환하며 증폭\n",
    "    datagen = ImageDataGenerator(rotation_range=50,\n",
    "                                 width_shift_range=0.3,\n",
    "                                 height_shift_range=0.3,\n",
    "                                 brightness_range=(0.0, 0.9),\n",
    "                                 shear_range=0.5,\n",
    "                                 horizontal_flip=True,\n",
    "                                 vertical_flip=True,\n",
    "                                 fill_mode='wrap')\n",
    "\n",
    "    load_sample = image.load_img(train_u115[train_u115['artist'] == name].reset_index(drop=True)['img_path'][number])\n",
    "    sample = image.img_to_array(load_sample)\n",
    "    sample = sample.reshape((1,) + sample.shape)\n",
    "\n",
    "    # 증폭된 이미지 데이터를 예술가별 폴더에 저장\n",
    "    i=0\n",
    "    for batch in datagen.flow(sample,\n",
    "                              batch_size=1,\n",
    "                              save_to_dir='/content/drive/MyDrive/2nd_project/class_buckets/' + name,\n",
    "                              save_prefix=name,\n",
    "                              save_format='jpg'):\n",
    "        i += 1\n",
    "        if i == n:\n",
    "            break"
   ]
  },
  {
   "cell_type": "code",
   "execution_count": 21,
   "id": "e50d6494",
   "metadata": {
    "id": "e50d6494"
   },
   "outputs": [],
   "source": [
    "# 이미지를 예술가별 폴더에 원하는 횟수만큼 증폭하여 저장하는 함수\n",
    "def IMG_save(target_list, target_df):\n",
    "    for name in target_list:\n",
    "        for i in range(len(target_df[target_df['artist'] == name])):\n",
    "            IMG_gen(name, i, (115 // len(target_df[target_df['artist'] == name])))"
   ]
  },
  {
   "cell_type": "code",
   "execution_count": 22,
   "id": "b7bff3db",
   "metadata": {
    "id": "b7bff3db"
   },
   "outputs": [],
   "source": [
    "# 이미지 증폭 함수 실행\n",
    "IMG_save(under_115, train_u115)"
   ]
  },
  {
   "cell_type": "code",
   "execution_count": 23,
   "id": "TF568PUxPIqb",
   "metadata": {
    "colab": {
     "base_uri": "https://localhost:8080/",
     "height": 424
    },
    "id": "TF568PUxPIqb",
    "outputId": "091a9247-b91a-4af7-d46d-6df6e16660ee"
   },
   "outputs": [
    {
     "data": {
      "text/html": [
       "\n",
       "  <div id=\"df-d947aa43-fc27-4449-9500-d704e38cd594\">\n",
       "    <div class=\"colab-df-container\">\n",
       "      <div>\n",
       "<style scoped>\n",
       "    .dataframe tbody tr th:only-of-type {\n",
       "        vertical-align: middle;\n",
       "    }\n",
       "\n",
       "    .dataframe tbody tr th {\n",
       "        vertical-align: top;\n",
       "    }\n",
       "\n",
       "    .dataframe thead th {\n",
       "        text-align: right;\n",
       "    }\n",
       "</style>\n",
       "<table border=\"1\" class=\"dataframe\">\n",
       "  <thead>\n",
       "    <tr style=\"text-align: right;\">\n",
       "      <th></th>\n",
       "      <th>img_path</th>\n",
       "      <th>artist</th>\n",
       "    </tr>\n",
       "  </thead>\n",
       "  <tbody>\n",
       "    <tr>\n",
       "      <th>0</th>\n",
       "      <td>/content/drive/MyDrive/2nd_project/class_bucke...</td>\n",
       "      <td>Andrei Rublev</td>\n",
       "    </tr>\n",
       "    <tr>\n",
       "      <th>1</th>\n",
       "      <td>/content/drive/MyDrive/2nd_project/class_bucke...</td>\n",
       "      <td>Andrei Rublev</td>\n",
       "    </tr>\n",
       "    <tr>\n",
       "      <th>2</th>\n",
       "      <td>/content/drive/MyDrive/2nd_project/class_bucke...</td>\n",
       "      <td>Andrei Rublev</td>\n",
       "    </tr>\n",
       "    <tr>\n",
       "      <th>3</th>\n",
       "      <td>/content/drive/MyDrive/2nd_project/class_bucke...</td>\n",
       "      <td>Andrei Rublev</td>\n",
       "    </tr>\n",
       "    <tr>\n",
       "      <th>4</th>\n",
       "      <td>/content/drive/MyDrive/2nd_project/class_bucke...</td>\n",
       "      <td>Andrei Rublev</td>\n",
       "    </tr>\n",
       "    <tr>\n",
       "      <th>...</th>\n",
       "      <td>...</td>\n",
       "      <td>...</td>\n",
       "    </tr>\n",
       "    <tr>\n",
       "      <th>4441</th>\n",
       "      <td>/content/drive/MyDrive/2nd_project/class_bucke...</td>\n",
       "      <td>William Turner</td>\n",
       "    </tr>\n",
       "    <tr>\n",
       "      <th>4442</th>\n",
       "      <td>/content/drive/MyDrive/2nd_project/class_bucke...</td>\n",
       "      <td>William Turner</td>\n",
       "    </tr>\n",
       "    <tr>\n",
       "      <th>4443</th>\n",
       "      <td>/content/drive/MyDrive/2nd_project/class_bucke...</td>\n",
       "      <td>William Turner</td>\n",
       "    </tr>\n",
       "    <tr>\n",
       "      <th>4444</th>\n",
       "      <td>/content/drive/MyDrive/2nd_project/class_bucke...</td>\n",
       "      <td>William Turner</td>\n",
       "    </tr>\n",
       "    <tr>\n",
       "      <th>4445</th>\n",
       "      <td>/content/drive/MyDrive/2nd_project/class_bucke...</td>\n",
       "      <td>William Turner</td>\n",
       "    </tr>\n",
       "  </tbody>\n",
       "</table>\n",
       "<p>4446 rows × 2 columns</p>\n",
       "</div>\n",
       "      <button class=\"colab-df-convert\" onclick=\"convertToInteractive('df-d947aa43-fc27-4449-9500-d704e38cd594')\"\n",
       "              title=\"Convert this dataframe to an interactive table.\"\n",
       "              style=\"display:none;\">\n",
       "        \n",
       "  <svg xmlns=\"http://www.w3.org/2000/svg\" height=\"24px\"viewBox=\"0 0 24 24\"\n",
       "       width=\"24px\">\n",
       "    <path d=\"M0 0h24v24H0V0z\" fill=\"none\"/>\n",
       "    <path d=\"M18.56 5.44l.94 2.06.94-2.06 2.06-.94-2.06-.94-.94-2.06-.94 2.06-2.06.94zm-11 1L8.5 8.5l.94-2.06 2.06-.94-2.06-.94L8.5 2.5l-.94 2.06-2.06.94zm10 10l.94 2.06.94-2.06 2.06-.94-2.06-.94-.94-2.06-.94 2.06-2.06.94z\"/><path d=\"M17.41 7.96l-1.37-1.37c-.4-.4-.92-.59-1.43-.59-.52 0-1.04.2-1.43.59L10.3 9.45l-7.72 7.72c-.78.78-.78 2.05 0 2.83L4 21.41c.39.39.9.59 1.41.59.51 0 1.02-.2 1.41-.59l7.78-7.78 2.81-2.81c.8-.78.8-2.07 0-2.86zM5.41 20L4 18.59l7.72-7.72 1.47 1.35L5.41 20z\"/>\n",
       "  </svg>\n",
       "      </button>\n",
       "      \n",
       "  <style>\n",
       "    .colab-df-container {\n",
       "      display:flex;\n",
       "      flex-wrap:wrap;\n",
       "      gap: 12px;\n",
       "    }\n",
       "\n",
       "    .colab-df-convert {\n",
       "      background-color: #E8F0FE;\n",
       "      border: none;\n",
       "      border-radius: 50%;\n",
       "      cursor: pointer;\n",
       "      display: none;\n",
       "      fill: #1967D2;\n",
       "      height: 32px;\n",
       "      padding: 0 0 0 0;\n",
       "      width: 32px;\n",
       "    }\n",
       "\n",
       "    .colab-df-convert:hover {\n",
       "      background-color: #E2EBFA;\n",
       "      box-shadow: 0px 1px 2px rgba(60, 64, 67, 0.3), 0px 1px 3px 1px rgba(60, 64, 67, 0.15);\n",
       "      fill: #174EA6;\n",
       "    }\n",
       "\n",
       "    [theme=dark] .colab-df-convert {\n",
       "      background-color: #3B4455;\n",
       "      fill: #D2E3FC;\n",
       "    }\n",
       "\n",
       "    [theme=dark] .colab-df-convert:hover {\n",
       "      background-color: #434B5C;\n",
       "      box-shadow: 0px 1px 3px 1px rgba(0, 0, 0, 0.15);\n",
       "      filter: drop-shadow(0px 1px 2px rgba(0, 0, 0, 0.3));\n",
       "      fill: #FFFFFF;\n",
       "    }\n",
       "  </style>\n",
       "\n",
       "      <script>\n",
       "        const buttonEl =\n",
       "          document.querySelector('#df-d947aa43-fc27-4449-9500-d704e38cd594 button.colab-df-convert');\n",
       "        buttonEl.style.display =\n",
       "          google.colab.kernel.accessAllowed ? 'block' : 'none';\n",
       "\n",
       "        async function convertToInteractive(key) {\n",
       "          const element = document.querySelector('#df-d947aa43-fc27-4449-9500-d704e38cd594');\n",
       "          const dataTable =\n",
       "            await google.colab.kernel.invokeFunction('convertToInteractive',\n",
       "                                                     [key], {});\n",
       "          if (!dataTable) return;\n",
       "\n",
       "          const docLinkHtml = 'Like what you see? Visit the ' +\n",
       "            '<a target=\"_blank\" href=https://colab.research.google.com/notebooks/data_table.ipynb>data table notebook</a>'\n",
       "            + ' to learn more about interactive tables.';\n",
       "          element.innerHTML = '';\n",
       "          dataTable['output_type'] = 'display_data';\n",
       "          await google.colab.output.renderOutput(dataTable, element);\n",
       "          const docLink = document.createElement('div');\n",
       "          docLink.innerHTML = docLinkHtml;\n",
       "          element.appendChild(docLink);\n",
       "        }\n",
       "      </script>\n",
       "    </div>\n",
       "  </div>\n",
       "  "
      ],
      "text/plain": [
       "                                               img_path          artist\n",
       "0     /content/drive/MyDrive/2nd_project/class_bucke...   Andrei Rublev\n",
       "1     /content/drive/MyDrive/2nd_project/class_bucke...   Andrei Rublev\n",
       "2     /content/drive/MyDrive/2nd_project/class_bucke...   Andrei Rublev\n",
       "3     /content/drive/MyDrive/2nd_project/class_bucke...   Andrei Rublev\n",
       "4     /content/drive/MyDrive/2nd_project/class_bucke...   Andrei Rublev\n",
       "...                                                 ...             ...\n",
       "4441  /content/drive/MyDrive/2nd_project/class_bucke...  William Turner\n",
       "4442  /content/drive/MyDrive/2nd_project/class_bucke...  William Turner\n",
       "4443  /content/drive/MyDrive/2nd_project/class_bucke...  William Turner\n",
       "4444  /content/drive/MyDrive/2nd_project/class_bucke...  William Turner\n",
       "4445  /content/drive/MyDrive/2nd_project/class_bucke...  William Turner\n",
       "\n",
       "[4446 rows x 2 columns]"
      ]
     },
     "execution_count": 23,
     "metadata": {},
     "output_type": "execute_result"
    }
   ],
   "source": [
    "# 증폭된 이미지 주소와 예술가 이름을 활용하여 train.csv와 같은 형태의 데이터프레임 생성\n",
    "blank_df = pd.DataFrame(columns = ['img_path', 'artist'])\n",
    "\n",
    "os.chdir('/content/drive/MyDrive/2nd_project/class_buckets/')\n",
    "\n",
    "cnt = 0\n",
    "\n",
    "for i in os.listdir('/content/drive/MyDrive/2nd_project/class_buckets/'):\n",
    "    for j in os.listdir('/content/drive/MyDrive/2nd_project/class_buckets/' + i):\n",
    "        blank_df.loc[cnt] = ['/content/drive/MyDrive/2nd_project/class_buckets/' + i + '/' + j, i]\n",
    "        cnt += 1\n",
    "\n",
    "blank_df"
   ]
  },
  {
   "cell_type": "code",
   "execution_count": 24,
   "id": "qO07PEHPJ6WJ",
   "metadata": {
    "colab": {
     "base_uri": "https://localhost:8080/",
     "height": 424
    },
    "id": "qO07PEHPJ6WJ",
    "outputId": "af5b814a-c6f6-48b1-bec9-2630e4fec2e0"
   },
   "outputs": [
    {
     "data": {
      "text/html": [
       "\n",
       "  <div id=\"df-21f6d69b-5d9b-445e-abc3-84df1f742447\">\n",
       "    <div class=\"colab-df-container\">\n",
       "      <div>\n",
       "<style scoped>\n",
       "    .dataframe tbody tr th:only-of-type {\n",
       "        vertical-align: middle;\n",
       "    }\n",
       "\n",
       "    .dataframe tbody tr th {\n",
       "        vertical-align: top;\n",
       "    }\n",
       "\n",
       "    .dataframe thead th {\n",
       "        text-align: right;\n",
       "    }\n",
       "</style>\n",
       "<table border=\"1\" class=\"dataframe\">\n",
       "  <thead>\n",
       "    <tr style=\"text-align: right;\">\n",
       "      <th></th>\n",
       "      <th>img_path</th>\n",
       "      <th>artist</th>\n",
       "    </tr>\n",
       "  </thead>\n",
       "  <tbody>\n",
       "    <tr>\n",
       "      <th>0</th>\n",
       "      <td>/content/drive/MyDrive/2nd_project/class_bucke...</td>\n",
       "      <td>Andrei Rublev</td>\n",
       "    </tr>\n",
       "    <tr>\n",
       "      <th>1</th>\n",
       "      <td>/content/drive/MyDrive/2nd_project/class_bucke...</td>\n",
       "      <td>Andrei Rublev</td>\n",
       "    </tr>\n",
       "    <tr>\n",
       "      <th>2</th>\n",
       "      <td>/content/drive/MyDrive/2nd_project/class_bucke...</td>\n",
       "      <td>Andrei Rublev</td>\n",
       "    </tr>\n",
       "    <tr>\n",
       "      <th>3</th>\n",
       "      <td>/content/drive/MyDrive/2nd_project/class_bucke...</td>\n",
       "      <td>Andrei Rublev</td>\n",
       "    </tr>\n",
       "    <tr>\n",
       "      <th>4</th>\n",
       "      <td>/content/drive/MyDrive/2nd_project/class_bucke...</td>\n",
       "      <td>Andrei Rublev</td>\n",
       "    </tr>\n",
       "    <tr>\n",
       "      <th>...</th>\n",
       "      <td>...</td>\n",
       "      <td>...</td>\n",
       "    </tr>\n",
       "    <tr>\n",
       "      <th>110</th>\n",
       "      <td>/content/drive/MyDrive/2nd_project/class_bucke...</td>\n",
       "      <td>William Turner</td>\n",
       "    </tr>\n",
       "    <tr>\n",
       "      <th>111</th>\n",
       "      <td>/content/drive/MyDrive/2nd_project/class_bucke...</td>\n",
       "      <td>William Turner</td>\n",
       "    </tr>\n",
       "    <tr>\n",
       "      <th>112</th>\n",
       "      <td>/content/drive/MyDrive/2nd_project/class_bucke...</td>\n",
       "      <td>William Turner</td>\n",
       "    </tr>\n",
       "    <tr>\n",
       "      <th>113</th>\n",
       "      <td>/content/drive/MyDrive/2nd_project/class_bucke...</td>\n",
       "      <td>William Turner</td>\n",
       "    </tr>\n",
       "    <tr>\n",
       "      <th>114</th>\n",
       "      <td>/content/drive/MyDrive/2nd_project/class_bucke...</td>\n",
       "      <td>William Turner</td>\n",
       "    </tr>\n",
       "  </tbody>\n",
       "</table>\n",
       "<p>3565 rows × 2 columns</p>\n",
       "</div>\n",
       "      <button class=\"colab-df-convert\" onclick=\"convertToInteractive('df-21f6d69b-5d9b-445e-abc3-84df1f742447')\"\n",
       "              title=\"Convert this dataframe to an interactive table.\"\n",
       "              style=\"display:none;\">\n",
       "        \n",
       "  <svg xmlns=\"http://www.w3.org/2000/svg\" height=\"24px\"viewBox=\"0 0 24 24\"\n",
       "       width=\"24px\">\n",
       "    <path d=\"M0 0h24v24H0V0z\" fill=\"none\"/>\n",
       "    <path d=\"M18.56 5.44l.94 2.06.94-2.06 2.06-.94-2.06-.94-.94-2.06-.94 2.06-2.06.94zm-11 1L8.5 8.5l.94-2.06 2.06-.94-2.06-.94L8.5 2.5l-.94 2.06-2.06.94zm10 10l.94 2.06.94-2.06 2.06-.94-2.06-.94-.94-2.06-.94 2.06-2.06.94z\"/><path d=\"M17.41 7.96l-1.37-1.37c-.4-.4-.92-.59-1.43-.59-.52 0-1.04.2-1.43.59L10.3 9.45l-7.72 7.72c-.78.78-.78 2.05 0 2.83L4 21.41c.39.39.9.59 1.41.59.51 0 1.02-.2 1.41-.59l7.78-7.78 2.81-2.81c.8-.78.8-2.07 0-2.86zM5.41 20L4 18.59l7.72-7.72 1.47 1.35L5.41 20z\"/>\n",
       "  </svg>\n",
       "      </button>\n",
       "      \n",
       "  <style>\n",
       "    .colab-df-container {\n",
       "      display:flex;\n",
       "      flex-wrap:wrap;\n",
       "      gap: 12px;\n",
       "    }\n",
       "\n",
       "    .colab-df-convert {\n",
       "      background-color: #E8F0FE;\n",
       "      border: none;\n",
       "      border-radius: 50%;\n",
       "      cursor: pointer;\n",
       "      display: none;\n",
       "      fill: #1967D2;\n",
       "      height: 32px;\n",
       "      padding: 0 0 0 0;\n",
       "      width: 32px;\n",
       "    }\n",
       "\n",
       "    .colab-df-convert:hover {\n",
       "      background-color: #E2EBFA;\n",
       "      box-shadow: 0px 1px 2px rgba(60, 64, 67, 0.3), 0px 1px 3px 1px rgba(60, 64, 67, 0.15);\n",
       "      fill: #174EA6;\n",
       "    }\n",
       "\n",
       "    [theme=dark] .colab-df-convert {\n",
       "      background-color: #3B4455;\n",
       "      fill: #D2E3FC;\n",
       "    }\n",
       "\n",
       "    [theme=dark] .colab-df-convert:hover {\n",
       "      background-color: #434B5C;\n",
       "      box-shadow: 0px 1px 3px 1px rgba(0, 0, 0, 0.15);\n",
       "      filter: drop-shadow(0px 1px 2px rgba(0, 0, 0, 0.3));\n",
       "      fill: #FFFFFF;\n",
       "    }\n",
       "  </style>\n",
       "\n",
       "      <script>\n",
       "        const buttonEl =\n",
       "          document.querySelector('#df-21f6d69b-5d9b-445e-abc3-84df1f742447 button.colab-df-convert');\n",
       "        buttonEl.style.display =\n",
       "          google.colab.kernel.accessAllowed ? 'block' : 'none';\n",
       "\n",
       "        async function convertToInteractive(key) {\n",
       "          const element = document.querySelector('#df-21f6d69b-5d9b-445e-abc3-84df1f742447');\n",
       "          const dataTable =\n",
       "            await google.colab.kernel.invokeFunction('convertToInteractive',\n",
       "                                                     [key], {});\n",
       "          if (!dataTable) return;\n",
       "\n",
       "          const docLinkHtml = 'Like what you see? Visit the ' +\n",
       "            '<a target=\"_blank\" href=https://colab.research.google.com/notebooks/data_table.ipynb>data table notebook</a>'\n",
       "            + ' to learn more about interactive tables.';\n",
       "          element.innerHTML = '';\n",
       "          dataTable['output_type'] = 'display_data';\n",
       "          await google.colab.output.renderOutput(dataTable, element);\n",
       "          const docLink = document.createElement('div');\n",
       "          docLink.innerHTML = docLinkHtml;\n",
       "          element.appendChild(docLink);\n",
       "        }\n",
       "      </script>\n",
       "    </div>\n",
       "  </div>\n",
       "  "
      ],
      "text/plain": [
       "                                              img_path          artist\n",
       "0    /content/drive/MyDrive/2nd_project/class_bucke...   Andrei Rublev\n",
       "1    /content/drive/MyDrive/2nd_project/class_bucke...   Andrei Rublev\n",
       "2    /content/drive/MyDrive/2nd_project/class_bucke...   Andrei Rublev\n",
       "3    /content/drive/MyDrive/2nd_project/class_bucke...   Andrei Rublev\n",
       "4    /content/drive/MyDrive/2nd_project/class_bucke...   Andrei Rublev\n",
       "..                                                 ...             ...\n",
       "110  /content/drive/MyDrive/2nd_project/class_bucke...  William Turner\n",
       "111  /content/drive/MyDrive/2nd_project/class_bucke...  William Turner\n",
       "112  /content/drive/MyDrive/2nd_project/class_bucke...  William Turner\n",
       "113  /content/drive/MyDrive/2nd_project/class_bucke...  William Turner\n",
       "114  /content/drive/MyDrive/2nd_project/class_bucke...  William Turner\n",
       "\n",
       "[3565 rows x 2 columns]"
      ]
     },
     "execution_count": 24,
     "metadata": {},
     "output_type": "execute_result"
    }
   ],
   "source": [
    "# 위의 데이터프레임에서 예술가별 115개의 작품만 추출하여 데이터프레임 형성\n",
    "train_u115 = DF_slicing(blank_df, under_115, 0, 115)\n",
    "train_u115"
   ]
  },
  {
   "cell_type": "markdown",
   "id": "dLS6jTCRis2X",
   "metadata": {
    "id": "dLS6jTCRis2X"
   },
   "source": [
    "## 3. 최종 데이터프레임 생성"
   ]
  },
  {
   "cell_type": "code",
   "execution_count": 25,
   "id": "UcDr-IxXY4Nx",
   "metadata": {
    "colab": {
     "base_uri": "https://localhost:8080/",
     "height": 424
    },
    "id": "UcDr-IxXY4Nx",
    "outputId": "c9591e49-f6fd-4c25-c76e-9fea1dfc0df3"
   },
   "outputs": [
    {
     "data": {
      "text/html": [
       "\n",
       "  <div id=\"df-d9acad39-fbd1-40f7-85a0-8b5eb34b4fd5\">\n",
       "    <div class=\"colab-df-container\">\n",
       "      <div>\n",
       "<style scoped>\n",
       "    .dataframe tbody tr th:only-of-type {\n",
       "        vertical-align: middle;\n",
       "    }\n",
       "\n",
       "    .dataframe tbody tr th {\n",
       "        vertical-align: top;\n",
       "    }\n",
       "\n",
       "    .dataframe thead th {\n",
       "        text-align: right;\n",
       "    }\n",
       "</style>\n",
       "<table border=\"1\" class=\"dataframe\">\n",
       "  <thead>\n",
       "    <tr style=\"text-align: right;\">\n",
       "      <th></th>\n",
       "      <th>id</th>\n",
       "      <th>img_path</th>\n",
       "      <th>artist</th>\n",
       "    </tr>\n",
       "  </thead>\n",
       "  <tbody>\n",
       "    <tr>\n",
       "      <th>0</th>\n",
       "      <td>0</td>\n",
       "      <td>/content/drive/MyDrive/2nd_project/train/0042.jpg</td>\n",
       "      <td>Albrecht Du rer</td>\n",
       "    </tr>\n",
       "    <tr>\n",
       "      <th>1</th>\n",
       "      <td>1</td>\n",
       "      <td>/content/drive/MyDrive/2nd_project/train/0054.jpg</td>\n",
       "      <td>Albrecht Du rer</td>\n",
       "    </tr>\n",
       "    <tr>\n",
       "      <th>2</th>\n",
       "      <td>2</td>\n",
       "      <td>/content/drive/MyDrive/2nd_project/train/0058.jpg</td>\n",
       "      <td>Albrecht Du rer</td>\n",
       "    </tr>\n",
       "    <tr>\n",
       "      <th>3</th>\n",
       "      <td>3</td>\n",
       "      <td>/content/drive/MyDrive/2nd_project/train/0077.jpg</td>\n",
       "      <td>Albrecht Du rer</td>\n",
       "    </tr>\n",
       "    <tr>\n",
       "      <th>4</th>\n",
       "      <td>4</td>\n",
       "      <td>/content/drive/MyDrive/2nd_project/train/0094.jpg</td>\n",
       "      <td>Albrecht Du rer</td>\n",
       "    </tr>\n",
       "    <tr>\n",
       "      <th>...</th>\n",
       "      <td>...</td>\n",
       "      <td>...</td>\n",
       "      <td>...</td>\n",
       "    </tr>\n",
       "    <tr>\n",
       "      <th>5745</th>\n",
       "      <td>5745</td>\n",
       "      <td>/content/drive/MyDrive/2nd_project/class_bucke...</td>\n",
       "      <td>William Turner</td>\n",
       "    </tr>\n",
       "    <tr>\n",
       "      <th>5746</th>\n",
       "      <td>5746</td>\n",
       "      <td>/content/drive/MyDrive/2nd_project/class_bucke...</td>\n",
       "      <td>William Turner</td>\n",
       "    </tr>\n",
       "    <tr>\n",
       "      <th>5747</th>\n",
       "      <td>5747</td>\n",
       "      <td>/content/drive/MyDrive/2nd_project/class_bucke...</td>\n",
       "      <td>William Turner</td>\n",
       "    </tr>\n",
       "    <tr>\n",
       "      <th>5748</th>\n",
       "      <td>5748</td>\n",
       "      <td>/content/drive/MyDrive/2nd_project/class_bucke...</td>\n",
       "      <td>William Turner</td>\n",
       "    </tr>\n",
       "    <tr>\n",
       "      <th>5749</th>\n",
       "      <td>5749</td>\n",
       "      <td>/content/drive/MyDrive/2nd_project/class_bucke...</td>\n",
       "      <td>William Turner</td>\n",
       "    </tr>\n",
       "  </tbody>\n",
       "</table>\n",
       "<p>5750 rows × 3 columns</p>\n",
       "</div>\n",
       "      <button class=\"colab-df-convert\" onclick=\"convertToInteractive('df-d9acad39-fbd1-40f7-85a0-8b5eb34b4fd5')\"\n",
       "              title=\"Convert this dataframe to an interactive table.\"\n",
       "              style=\"display:none;\">\n",
       "        \n",
       "  <svg xmlns=\"http://www.w3.org/2000/svg\" height=\"24px\"viewBox=\"0 0 24 24\"\n",
       "       width=\"24px\">\n",
       "    <path d=\"M0 0h24v24H0V0z\" fill=\"none\"/>\n",
       "    <path d=\"M18.56 5.44l.94 2.06.94-2.06 2.06-.94-2.06-.94-.94-2.06-.94 2.06-2.06.94zm-11 1L8.5 8.5l.94-2.06 2.06-.94-2.06-.94L8.5 2.5l-.94 2.06-2.06.94zm10 10l.94 2.06.94-2.06 2.06-.94-2.06-.94-.94-2.06-.94 2.06-2.06.94z\"/><path d=\"M17.41 7.96l-1.37-1.37c-.4-.4-.92-.59-1.43-.59-.52 0-1.04.2-1.43.59L10.3 9.45l-7.72 7.72c-.78.78-.78 2.05 0 2.83L4 21.41c.39.39.9.59 1.41.59.51 0 1.02-.2 1.41-.59l7.78-7.78 2.81-2.81c.8-.78.8-2.07 0-2.86zM5.41 20L4 18.59l7.72-7.72 1.47 1.35L5.41 20z\"/>\n",
       "  </svg>\n",
       "      </button>\n",
       "      \n",
       "  <style>\n",
       "    .colab-df-container {\n",
       "      display:flex;\n",
       "      flex-wrap:wrap;\n",
       "      gap: 12px;\n",
       "    }\n",
       "\n",
       "    .colab-df-convert {\n",
       "      background-color: #E8F0FE;\n",
       "      border: none;\n",
       "      border-radius: 50%;\n",
       "      cursor: pointer;\n",
       "      display: none;\n",
       "      fill: #1967D2;\n",
       "      height: 32px;\n",
       "      padding: 0 0 0 0;\n",
       "      width: 32px;\n",
       "    }\n",
       "\n",
       "    .colab-df-convert:hover {\n",
       "      background-color: #E2EBFA;\n",
       "      box-shadow: 0px 1px 2px rgba(60, 64, 67, 0.3), 0px 1px 3px 1px rgba(60, 64, 67, 0.15);\n",
       "      fill: #174EA6;\n",
       "    }\n",
       "\n",
       "    [theme=dark] .colab-df-convert {\n",
       "      background-color: #3B4455;\n",
       "      fill: #D2E3FC;\n",
       "    }\n",
       "\n",
       "    [theme=dark] .colab-df-convert:hover {\n",
       "      background-color: #434B5C;\n",
       "      box-shadow: 0px 1px 3px 1px rgba(0, 0, 0, 0.15);\n",
       "      filter: drop-shadow(0px 1px 2px rgba(0, 0, 0, 0.3));\n",
       "      fill: #FFFFFF;\n",
       "    }\n",
       "  </style>\n",
       "\n",
       "      <script>\n",
       "        const buttonEl =\n",
       "          document.querySelector('#df-d9acad39-fbd1-40f7-85a0-8b5eb34b4fd5 button.colab-df-convert');\n",
       "        buttonEl.style.display =\n",
       "          google.colab.kernel.accessAllowed ? 'block' : 'none';\n",
       "\n",
       "        async function convertToInteractive(key) {\n",
       "          const element = document.querySelector('#df-d9acad39-fbd1-40f7-85a0-8b5eb34b4fd5');\n",
       "          const dataTable =\n",
       "            await google.colab.kernel.invokeFunction('convertToInteractive',\n",
       "                                                     [key], {});\n",
       "          if (!dataTable) return;\n",
       "\n",
       "          const docLinkHtml = 'Like what you see? Visit the ' +\n",
       "            '<a target=\"_blank\" href=https://colab.research.google.com/notebooks/data_table.ipynb>data table notebook</a>'\n",
       "            + ' to learn more about interactive tables.';\n",
       "          element.innerHTML = '';\n",
       "          dataTable['output_type'] = 'display_data';\n",
       "          await google.colab.output.renderOutput(dataTable, element);\n",
       "          const docLink = document.createElement('div');\n",
       "          docLink.innerHTML = docLinkHtml;\n",
       "          element.appendChild(docLink);\n",
       "        }\n",
       "      </script>\n",
       "    </div>\n",
       "  </div>\n",
       "  "
      ],
      "text/plain": [
       "        id                                           img_path           artist\n",
       "0        0  /content/drive/MyDrive/2nd_project/train/0042.jpg  Albrecht Du rer\n",
       "1        1  /content/drive/MyDrive/2nd_project/train/0054.jpg  Albrecht Du rer\n",
       "2        2  /content/drive/MyDrive/2nd_project/train/0058.jpg  Albrecht Du rer\n",
       "3        3  /content/drive/MyDrive/2nd_project/train/0077.jpg  Albrecht Du rer\n",
       "4        4  /content/drive/MyDrive/2nd_project/train/0094.jpg  Albrecht Du rer\n",
       "...    ...                                                ...              ...\n",
       "5745  5745  /content/drive/MyDrive/2nd_project/class_bucke...   William Turner\n",
       "5746  5746  /content/drive/MyDrive/2nd_project/class_bucke...   William Turner\n",
       "5747  5747  /content/drive/MyDrive/2nd_project/class_bucke...   William Turner\n",
       "5748  5748  /content/drive/MyDrive/2nd_project/class_bucke...   William Turner\n",
       "5749  5749  /content/drive/MyDrive/2nd_project/class_bucke...   William Turner\n",
       "\n",
       "[5750 rows x 3 columns]"
      ]
     },
     "execution_count": 25,
     "metadata": {},
     "output_type": "execute_result"
    }
   ],
   "source": [
    "# 작품 개수가 115개 이상인 예술가 데이터프레임과 작품 개수가 115개 이하인 예술가 데이터프레임을 병합하여 최종 데이터프레임 생성\n",
    "df = pd.concat([train_o115, train_u115], axis=0)\n",
    "df.reset_index(drop=True, inplace=True)\n",
    "df['id'] = list(range(len(df)))\n",
    "df = df[['id', 'img_path', 'artist']]\n",
    "df"
   ]
  },
  {
   "cell_type": "code",
   "execution_count": 26,
   "id": "8waBXA6mY4RF",
   "metadata": {
    "id": "8waBXA6mY4RF"
   },
   "outputs": [],
   "source": [
    "# 모델 학습 과정에서 train.csv를 대체하여 사용할 수 있도록 csv 파일로 저장\n",
    "df.to_csv('/content/drive/MyDrive/2nd_project/df.csv', index=False)"
   ]
  },
  {
   "cell_type": "markdown",
   "id": "4xMoVUNbIMSx",
   "metadata": {
    "id": "4xMoVUNbIMSx"
   },
   "source": [
    "# Ⅱ. 모델 설계"
   ]
  },
  {
   "cell_type": "markdown",
   "id": "r8jNnfxoi7IS",
   "metadata": {
    "id": "r8jNnfxoi7IS"
   },
   "source": [
    "## 1. 클래스 및 함수 선언"
   ]
  },
  {
   "cell_type": "markdown",
   "id": "Y3wu5j_LM4mi",
   "metadata": {
    "id": "Y3wu5j_LM4mi"
   },
   "source": [
    "### - 결과를 재현하기 위한 seed 고정"
   ]
  },
  {
   "cell_type": "code",
   "execution_count": 27,
   "id": "7QEOGl_cVL4S",
   "metadata": {
    "id": "7QEOGl_cVL4S"
   },
   "outputs": [],
   "source": [
    "# seed 고정(random_state=42)\n",
    "def fixed_seed(seed:int=42):\n",
    "    random.seed(seed)\n",
    "    np.random.seed(seed)\n",
    "    os.environ['PYTHONHASHSEED'] = str(seed)\n",
    "    torch.manual_seed(seed)\n",
    "    torch.cuda.manual_seed(seed)\n",
    "    torch.cuda.manual_seed_all(seed)\n",
    "    torch.backends.cudnn.deterministic = True\n",
    "    torch.backends.cudnn.benchmark = False\n",
    "    torch.backends.cudnn.enabled = False\n",
    "\n",
    "fixed_seed(42)"
   ]
  },
  {
   "cell_type": "markdown",
   "id": "N9Wp3NIsNC1h",
   "metadata": {
    "id": "N9Wp3NIsNC1h"
   },
   "source": [
    "### - cuda 사용 가능 여부 확인(0 : 사용 불가 / 1 : 사용 가능)"
   ]
  },
  {
   "cell_type": "code",
   "execution_count": 28,
   "id": "RaAfNrl0IRPR",
   "metadata": {
    "colab": {
     "base_uri": "https://localhost:8080/"
    },
    "id": "RaAfNrl0IRPR",
    "outputId": "a7bdf2d3-0c32-45f1-f695-78b4108b84c6"
   },
   "outputs": [
    {
     "name": "stdout",
     "output_type": "stream",
     "text": [
      "1\n"
     ]
    }
   ],
   "source": [
    "device = torch.device('cuda') if torch.cuda.is_available() else torch.device('cpu')\n",
    "print(torch.cuda.device_count())"
   ]
  },
  {
   "cell_type": "code",
   "execution_count": 29,
   "id": "IIrIcZH2IRRb",
   "metadata": {
    "id": "IIrIcZH2IRRb"
   },
   "outputs": [],
   "source": [
    "# 각종 파라미터의 디폴트값\n",
    "Default_param = {\n",
    "    'Img_size' : 224,\n",
    "    'Epochs' : 50,\n",
    "    'Learning_rate' : 1e-3,\n",
    "    'Batch_size' : 16\n",
    "}"
   ]
  },
  {
   "cell_type": "code",
   "execution_count": 30,
   "id": "pybwyKFDIRTZ",
   "metadata": {
    "id": "pybwyKFDIRTZ"
   },
   "outputs": [],
   "source": [
    "# csv 파일에서 이미지 파일의 주소를 가져오는 함수\n",
    "def img_data(df, infer=False):\n",
    "\n",
    "    # 라벨 데이터(화가 이름)가 없는 경우 이미지 파일의 주소만 가져옴 → test.csv\n",
    "    if infer:\n",
    "        return df['img_path'].values\n",
    "\n",
    "    # 라벨 데이터(화가 이름)가 있는 경우 이미지 파일의 주소와 라벨을 모두 가져옴 → train.csv\n",
    "    return df['img_path'].values, df['artist'].values "
   ]
  },
  {
   "cell_type": "markdown",
   "id": "sHrp9iY3NnRR",
   "metadata": {
    "id": "sHrp9iY3NnRR"
   },
   "source": [
    "### - 라벨 인코딩 및 이미지 파일 경로 조정"
   ]
  },
  {
   "cell_type": "code",
   "execution_count": 31,
   "id": "qEINyjrHIRVR",
   "metadata": {
    "id": "qEINyjrHIRVR"
   },
   "outputs": [],
   "source": [
    "# train 불러오기\n",
    "df = pd.read_csv('/content/drive/MyDrive/2nd_project/df.csv')\n",
    "\n",
    "# 라벨 데이터 라벨 인코딩\n",
    "le = preprocessing.LabelEncoder()\n",
    "df['artist'] = le.fit_transform(df['artist'].values)\n",
    "\n",
    "# test 불러오기\n",
    "test_df = pd.read_csv('/content/drive/MyDrive/2nd_project/data/test.csv')\n",
    "test_df['img_path'] = test_df['img_path'].apply(lambda x:'/content/drive/MyDrive/2nd_project' + x[1:])\n",
    "test_img_paths = img_data(test_df, infer=True)"
   ]
  },
  {
   "cell_type": "markdown",
   "id": "Ahq8PCzAONfJ",
   "metadata": {
    "id": "Ahq8PCzAONfJ"
   },
   "source": [
    "이미지 데이터는 용량이 크기 때문에 한번에 다 불러올 수 없는 문제가 발생합니다.\n",
    "\n",
    "img_path만을 가지고 있다가 필요할 때만 이 클래스를 통해 미니배치마다 이미지를 cv2로 읽어서 가져옵니다."
   ]
  },
  {
   "cell_type": "code",
   "execution_count": 32,
   "id": "wU5ej0QUIRXS",
   "metadata": {
    "id": "wU5ej0QUIRXS"
   },
   "outputs": [],
   "source": [
    "# 데이터를 불러오는 클래스\n",
    "class Load_Dataset(Dataset):\n",
    "    def __init__(self, img_paths, labels, transforms=None):\n",
    "        self.img_paths = img_paths # 이미지 주소\n",
    "        self.labels = labels # 라벨(화가 이름)\n",
    "        self.transforms = transforms # albumentation 함수 적용 여부\n",
    "\n",
    "    # dataloader가 데이터를 가져올 때마다 매번 호출\n",
    "    def __getitem__(self, index):\n",
    "        img_path = self.img_paths[index] # index 번호의 이미지 주소를 가져옴\n",
    "        image = cv2.imread(img_path) # cv2로 읽음\n",
    "        image = cv2.cvtColor(image, cv2.COLOR_BGR2RGB) # rgb 변환\n",
    "\n",
    "        # albumentaion 함수를 적용할 경우\n",
    "        if self.transforms is not None:\n",
    "            image = self.transforms(image=image)['image']\n",
    "\n",
    "        # 라벨 데이터가 있을 경우 이미지와 라벨을 모두 반환\n",
    "        if self.labels is not None:\n",
    "            label = self.labels[index]\n",
    "            return image, label\n",
    "        \n",
    "        # 라벨 데이터가 없을 경우 이미지만 반환\n",
    "        else:\n",
    "            return image\n",
    "    \n",
    "    def __len__(self): # 이미지 개수를 알려주는 내장 함수\n",
    "        return len(self.img_paths)"
   ]
  },
  {
   "cell_type": "markdown",
   "id": "fb781206",
   "metadata": {},
   "source": [
    "### - 모델 설계(EfficientNet_B4)"
   ]
  },
  {
   "cell_type": "code",
   "execution_count": 33,
   "id": "J1m89kTqIRZc",
   "metadata": {
    "id": "J1m89kTqIRZc"
   },
   "outputs": [],
   "source": [
    "# 모델을 설계하는 클래스\n",
    "class Base_Model(nn.Module):\n",
    "    def __init__(self, num_classes=len(le.classes_)):\n",
    "        super(Base_Model, self).__init__()\n",
    "        self.backbone = models.efficientnet_b4(pretrained=True) # efficientnet_b4를 사용 → output이 1000개\n",
    "        self.classifier = nn.Linear(1000, num_classes) # output 1000개를 받아 화가 명수(50명)만큼 출력하도록 함 → tensorflow의 dense층을 추가하는 것과 유사함\n",
    "        \n",
    "    def forward(self, x):\n",
    "        x = self.backbone(x) # 위의 efficientnet_b4 \n",
    "        x = self.classifier(x) # 위의 Linear\n",
    "        return x"
   ]
  },
  {
   "cell_type": "markdown",
   "id": "cd878acb",
   "metadata": {},
   "source": [
    "전이학습에 EfficientNet_B4 모델을 사용했습니다.\n",
    "\n",
    "EfficientNet_B4 모델은 ResNet 등 다른 모델에 비해 10배 가량 가벼우면서 훨씬 좋은 성능을 보여줍니다.\n",
    "\n",
    "EfficientNet_B4의 기본 출력은 1000이므로 class가 50인 층을 하나 더 추가하여 데이터에 맞게 수정합니다.\n",
    "\n",
    "tensorflow의 tf.keras.Model을 상속받은 경우와 유사합니다."
   ]
  },
  {
   "cell_type": "markdown",
   "id": "34884bff",
   "metadata": {},
   "source": [
    "### - 이미지 전처리 함수"
   ]
  },
  {
   "cell_type": "code",
   "execution_count": 38,
   "id": "_W0XPwMxIRjh",
   "metadata": {
    "id": "_W0XPwMxIRjh"
   },
   "outputs": [],
   "source": [
    "# 그림 데이터 분할\n",
    "def album(train_img_paths, train_labels, val_img_paths, val_labels, test_img_paths):\n",
    "\n",
    "    # train, validation에 적용\n",
    "    train_transform = A.Compose(\n",
    "        [\n",
    "            A.Resize(p=1, height=224*2, width=224*2), # 224 * 2로 resize → p=1을 통해 100% 확률로 수행\n",
    "            A.RandomCrop(p=1, height=224, width=224), # 2개로 자름 → p=1을 통해 100% 확률로 수행\n",
    "            A.CoarseDropout(max_holes=8, max_height=32, max_width=32, p=0.5), # 랜덤으로 이미지에 사각형 구멍을 냄 → p=0.5를 통해 50% 확률로 수행\n",
    "            A.OneOf([\n",
    "                                                A.MotionBlur(p=1),\n",
    "                                                A.OpticalDistortion(p=1),\n",
    "                                                A.GaussNoise(p=1)\n",
    "                    ], p= 0.3), # 셋 중 하나 적용\n",
    "            A.ColorJitter(brightness=0.2, contrast=0.2, saturation=0.2, hue=0.2, always_apply=False, p=0.3), # 색상에 변화를 줌\n",
    "            A.Normalize(mean=(0.485, 0.456, 0.406), std=(0.229, 0.224, 0.225), max_pixel_value=255.0, always_apply=False, p=1.0), # 일종의 scaling → 전부 기본값이라 생략 가능\n",
    "            ToTensorV2() # torch로 학습할 수 있도록 텐서로 변환\n",
    "            ])\n",
    "\n",
    "    # test에 적용, normalize를 제외함\n",
    "    test_transform = A.Compose(\n",
    "        [\n",
    "            A.Resize(height=224, width=224),\n",
    "            A.Normalize(mean=(0.485, 0.456, 0.406), std=(0.229, 0.224, 0.225), max_pixel_value=255.0, always_apply=False, p=1.0),\n",
    "            ToTensorV2()\n",
    "            ])\n",
    "\n",
    "    # train 데이터 구성하고 가져오는 함수\n",
    "    train_dataset = Load_Dataset(train_img_paths, train_labels, train_transform)\n",
    "    train_loader = DataLoader(train_dataset, batch_size=Default_param['Batch_size'], shuffle=True, num_workers=0)\n",
    "\n",
    "    # val 데이터를 구성하고 가져오는 함수\n",
    "    val_dataset = Load_Dataset(val_img_paths, val_labels, test_transform)\n",
    "    val_loader = DataLoader(val_dataset, batch_size=Default_param['Batch_size'], shuffle=False, num_workers=0)\n",
    "\n",
    "    # test 데이터를 구성하고 가져오는 함수 → test 데이터에는 라벨 데이터(화가 이름)가 없으므로 labels=None\n",
    "    test_dataset = Load_Dataset(test_img_paths, None, test_transform)\n",
    "    test_loader = DataLoader(test_dataset, batch_size=Default_param['Batch_size'], shuffle=False, num_workers=0)\n",
    "\n",
    "    return train_loader, val_loader, test_loader"
   ]
  },
  {
   "cell_type": "markdown",
   "id": "tZ881iW4SFNL",
   "metadata": {
    "id": "tZ881iW4SFNL"
   },
   "source": [
    "#### ① albumentation\n",
    "\n",
    "이미지를 전처리합니다. ImageDataGenerator와 유사한 기능을 합니다.\n",
    "\n",
    "train을 위한 데이터에는 학습을 위해 크기 조정, 정규화 외에도 noise, crop(자르기) 등의 효과를 추가합니다.\n",
    "\n",
    "test를 위한 데이터에는 크기 조정과 정규화만 적용합니다.\n",
    "\n",
    "#### ② Load_Dataset\n",
    "\n",
    "가져오는 데이터를 매번 cv2로 읽는 클래스입니다.\n",
    "\n",
    "#### ③ dataloader\n",
    "\n",
    "Load_Dataset에서 batch size만큼 데이터를 가져옵니다.\n",
    "\n",
    "train, validation, test를 위한 세 개의 dataloader를 만들어 반환합니다."
   ]
  },
  {
   "cell_type": "markdown",
   "id": "ITJVOCiMQ5XA",
   "metadata": {
    "id": "ITJVOCiMQ5XA"
   },
   "source": [
    "### - train 함수"
   ]
  },
  {
   "cell_type": "code",
   "execution_count": 34,
   "id": "Yl3bjX09IRbL",
   "metadata": {
    "id": "Yl3bjX09IRbL"
   },
   "outputs": [],
   "source": [
    "# 학습을 진행하는 함수\n",
    "def train(model, optimizer, train_loader, test_loader, scheduler, device, earlystop): \n",
    "    model.to(device) \n",
    "\n",
    "    # crossentropy\n",
    "    criterion = nn.CrossEntropyLoss().to(device)\n",
    "    \n",
    "    best_score = 0\n",
    "    best_model = None\n",
    "    \n",
    "    for epoch in range(1, Default_param['Epochs'] + 1): # 에포크 수만큼 반복\n",
    "        model.train() # train 선언, 가중치 갱신 가능\n",
    "\n",
    "        train_loss = []\n",
    "\n",
    "        # train_loader로부터 이미지와 라벨을 받아옴\n",
    "        for img, label in tqdm(iter(train_loader)):\n",
    "            img, label = img.float().to(device), label.to(device)\n",
    "\n",
    "            optimizer.zero_grad() # gradient 0으로 초기화\n",
    "\n",
    "            model_pred = model(img) # img를 model에 넣은 출력값\n",
    "            loss = criterion(model_pred, label) # loss 값\n",
    "            loss.backward() # 역전파\n",
    "\n",
    "            optimizer.step() # optimizer 갱신\n",
    "\n",
    "            train_loss.append(loss.item()) # train_loss에 loss값 넣기\n",
    "\n",
    "        tr_loss = np.mean(train_loss)\n",
    "\n",
    "        # 아래의 validation 참조\n",
    "        val_loss, val_score = validation(model, criterion, test_loader, device)\n",
    "\n",
    "        print(f'Epoch [{epoch}], Train Loss : [{tr_loss:.5f}] Val Loss : [{val_loss:.5f}] Val F1 Score : [{val_score:.5f}]')\n",
    "\n",
    "        # earlystopping 갱신\n",
    "        earlystop(val_score)\n",
    "\n",
    "        # scheduler가 있을 경우 scheduler 갱신\n",
    "        if scheduler is not None:\n",
    "            scheduler.step()\n",
    "\n",
    "        # 에포크마다 val_score가 가장 높은 경우를 모델로 선택\n",
    "        if best_score < val_score:\n",
    "            best_model = model\n",
    "            best_score = val_score\n",
    "\n",
    "        # earlystopping 조건을 만족할 경우 train 종료\n",
    "        if earlystop.early_stop:\n",
    "            break\n",
    "\n",
    "    return best_model"
   ]
  },
  {
   "cell_type": "markdown",
   "id": "dfd0c434",
   "metadata": {},
   "source": [
    "crossentropy를 loss로 사용해서 학습을 진행합니다.\n",
    "\n",
    "tensorflow와는 다르게 epoch와 미니배치를 for 구문으로 구현합니다."
   ]
  },
  {
   "cell_type": "markdown",
   "id": "cqSqP0tBRbLi",
   "metadata": {
    "id": "cqSqP0tBRbLi"
   },
   "source": [
    "### - earlystopping 클래스"
   ]
  },
  {
   "cell_type": "code",
   "execution_count": 36,
   "id": "IvAfnjKdIRfS",
   "metadata": {
    "id": "IvAfnjKdIRfS"
   },
   "outputs": [],
   "source": [
    "# earlystopping 클래스\n",
    "class EarlyStopping:\n",
    "    def __init__(self, patience=10, verbose=False, delta=0):\n",
    "        self.patience = patience\n",
    "        self.verbose = verbose\n",
    "        self.counter = 0\n",
    "        self.best_score = None\n",
    "        self.early_stop = False\n",
    "        self.val_loss_min = np.Inf\n",
    "        self.delta = delta\n",
    "\n",
    "    def __call__(self, score):\n",
    "\n",
    "        # 우선 첫번째 score를 best_score로 선정\n",
    "        if self.best_score is None:\n",
    "            self.best_score = score\n",
    "\n",
    "        # 그 다음부터 best_score보다 작은 score가 들어오면 counter + 1(delta는 보통 0으로 설정하므로 신경쓰지 않아도 됨)\n",
    "        elif score < self.best_score + self.delta:\n",
    "            self.counter += 1\n",
    "\n",
    "            print(f'EarlyStopping counter: {self.counter} out of {self.patience}')\n",
    "            print(f'Best F1 score from now: {self.best_score}')\n",
    "\n",
    "            if self.counter >= self.patience: # counter가 patience를 넘으면 ealystop 작동\n",
    "                self.early_stop = True\n",
    "\n",
    "        else:\n",
    "            self.best_score = score\n",
    "            self.counter = 0\n",
    "        \n",
    "        return self.early_stop"
   ]
  },
  {
   "cell_type": "markdown",
   "id": "1bc45a31",
   "metadata": {},
   "source": [
    "init은 인스턴스가 생성될 때, call은 인스턴스가 호출될 때 호출됩니다.\n",
    "\n",
    "init에서 earlystop을 위한 파라메터를 초기화하고 call에서 파라메터를 갱신합니다.\n",
    "\n",
    "train에서 earlystop 조건을 만족하면 epoch를 break로 탈출합니다."
   ]
  },
  {
   "cell_type": "markdown",
   "id": "38e507cb",
   "metadata": {},
   "source": [
    "### - predict 함수"
   ]
  },
  {
   "cell_type": "code",
   "execution_count": 37,
   "id": "6X8x8TTEIRhL",
   "metadata": {
    "id": "6X8x8TTEIRhL"
   },
   "outputs": [],
   "source": [
    "# predict 함수\n",
    "def predict(model, test_loader, device, temp):\n",
    "    model.to(device)\n",
    "    model.eval()\n",
    " \n",
    "    model_preds = []\n",
    "\n",
    "    with torch.no_grad():\n",
    "        for img in tqdm(iter(test_loader)):\n",
    "            img = img.float().to(device)\n",
    "            model_pred = model(img)\n",
    "\n",
    "            # model_pred(model의 출력값)을 temp에 append\n",
    "            temp.append(model_pred)\n",
    "            model_preds += model_pred.argmax(1).detach().cpu().numpy().tolist()# train과 똑같이 가장 큰 값의 index를 반환\n",
    "    \n",
    "    print('Done.')\n",
    "    return model_preds"
   ]
  },
  {
   "cell_type": "markdown",
   "id": "Y2CnluPyRYa5",
   "metadata": {
    "id": "Y2CnluPyRYa5"
   },
   "source": [
    "### - validation과 f1 score 계산 함수"
   ]
  },
  {
   "cell_type": "code",
   "execution_count": 35,
   "id": "zQZO1iTAIRdO",
   "metadata": {
    "id": "zQZO1iTAIRdO"
   },
   "outputs": [],
   "source": [
    "# f1 score 계산 함수\n",
    "def competition_metrics(true, pred):\n",
    "    return f1_score(true, pred, average=\"macro\")\n",
    "\n",
    "# validation 계산 함수\n",
    "def validation(model, criterion, test_loader, device):\n",
    "    model.eval() # evaluate 선언(가중치 동결)\n",
    "    \n",
    "    model_preds = []\n",
    "    true_labels = []\n",
    "    \n",
    "    val_loss = []\n",
    "    \n",
    "    with torch.no_grad(): # 자동 그레이디언트 계산 끔\n",
    "        for img, label in tqdm(iter(test_loader)):\n",
    "            img, label = img.float().to(device), label.to(device)\n",
    "            \n",
    "            model_pred = model(img)\n",
    "            \n",
    "            loss = criterion(model_pred, label)\n",
    "            \n",
    "            val_loss.append(loss.item())\n",
    "            \n",
    "            model_preds += model_pred.argmax(1).detach().cpu().numpy().tolist() # model_pred에서 가장 큰 값의 index를 리스트로 바꿔 model_preds에 넣어줌\n",
    "            true_labels += label.detach().cpu().numpy().tolist() # 정답 라벨\n",
    "        \n",
    "    val_f1 = competition_metrics(true_labels, model_preds) # 위의 f1score 구하는 함수 적용\n",
    "    return np.mean(val_loss), val_f1"
   ]
  },
  {
   "cell_type": "markdown",
   "id": "KO6udvrHjZMF",
   "metadata": {
    "id": "KO6udvrHjZMF"
   },
   "source": [
    "## 2. 학습 진행"
   ]
  },
  {
   "cell_type": "markdown",
   "id": "YwR2ANGJJSJi",
   "metadata": {
    "id": "YwR2ANGJJSJi"
   },
   "source": [
    "### - EfficientNet_B4 베이스 모델 + StratifiedKFold"
   ]
  },
  {
   "cell_type": "code",
   "execution_count": 39,
   "id": "EucTjreqJBab",
   "metadata": {
    "id": "EucTjreqJBab"
   },
   "outputs": [],
   "source": [
    "skf = sklearn.model_selection.StratifiedKFold(n_splits=5, shuffle=False) # 구현, 5 fold, shuffle 안함\n",
    "t = df.artist # 라벨\n",
    "\n",
    "# model 폴더 만드는 함수\n",
    "os.mkdir('drive/MyDrive/2nd_project/model')\n",
    "\n",
    "# StratifiedKFold 객체는 split에 라벨도 함께 적용하는 것으로, 라벨이 같은 비율을 갖도록 index를 반환해줌\n",
    "for fold, (train_index, test_index) in enumerate(skf.split(np.zeros(len(t)), t)):\n",
    "\n",
    "    # 하나의 fold를 실행하는 데 많은 시간이 걸리므로 fold 한 개마다 저장하는 식으로 했음\n",
    "    if fold != 0: # kfold 0 ~ 4까지 수행\n",
    "        print('skip '+str(fold))\n",
    "        continue\n",
    "\n",
    "    # train split\n",
    "    train_df = df.loc[train_index]\n",
    "\n",
    "    # validation split\n",
    "    val_df = df.loc[test_index]\n",
    "\n",
    "    # train 이미지 주소 가져오기\n",
    "    train_img_paths, train_labels = img_data(train_df)\n",
    "    \n",
    "    # val 이미지 주소 가져오기\n",
    "    val_img_paths, val_labels = img_data(val_df)\n",
    "    \n",
    "    # train, val, test loader를 album 함수로 생성\n",
    "    train_loader, val_loader, test_loader = album(train_img_paths, train_labels,val_img_paths, val_labels, test_img_paths)\n",
    "\n",
    "    earlystop = EarlyStopping()\n",
    "    \n",
    "    # 모델 선택\n",
    "    model = Base_Model() # efficientnet_b4\n",
    "    model.eval() # evaluate 선언 → 가중치 동결\n",
    "\n",
    "    # optimizer: adam\n",
    "    optimizer = torch.optim.Adam(params = model.parameters(), lr = Default_Val[\"LEARNING_RATE\"])\n",
    "    \n",
    "    # scheduler: steplr\n",
    "    scheduler = StepLR(optimizer, step_size=5, gamma=0.5)\n",
    "\n",
    "    # train 학습 후 저장\n",
    "    pred_model = train(model, optimizer, train_loader, val_loader, scheduler, device, earlystop)\n",
    "    torch.save(pred_model, '/content/drive/MyDrive/2nd_project/model/' + str(fold) + '.torch')\n",
    "\n",
    "    # test predict\n",
    "    temp = []\n",
    "    predict(pred_model, test_loader, device, temp)\n",
    "    \n",
    "    # 첫번째 model_pred 대입\n",
    "    first = temp[0]\n",
    "\n",
    "    # model_pred와 결합하여 최종적으로 하나의 tensor가 됨\n",
    "    for idx, i in enumerate(temp):\n",
    "        if idx != 0:\n",
    "            first =torch.cat([first.cpu(),i.cpu()],dim=0)\n",
    "\n",
    "    # fold 하나를 실행한 결과 tensor를 numpy로 바꿔 저장\n",
    "    np.save('/content/drive/MyDrive/2nd_project/model/' + str(fold) + '.npy', first.numpy())"
   ]
  },
  {
   "cell_type": "markdown",
   "id": "d1a76116",
   "metadata": {},
   "source": [
    "StratifiedKFold는 kfold에 라벨의 비율을 적용해서 데이터가 일정한 라벨 비율을 갖도록 하는 방법입니다.\n",
    "\n",
    "fold 하나당 소요되는 시간이 매우 길기 때문에 fold 1개를 수행할 때마다 torch 파일로 저장합니다.\n",
    "\n",
    "학습 모델을 통해 test 데이터를 예측한 결과도 npy 파일로 저장합니다.\n",
    "\n",
    "kfold에서 지정한 split 횟수만큼 반복한 후, 그 결과들을 활용하여 voting 진행합니다.\n",
    "\n",
    "예측 결과를 모두 더한 뒤 argmax함수를 적용하는 soft voting(probability voting) 방식을 사용합니다."
   ]
  },
  {
   "cell_type": "markdown",
   "id": "Zqs-fBi7JNVi",
   "metadata": {
    "id": "Zqs-fBi7JNVi"
   },
   "source": [
    "### - Noisy Student 모델 + StratifiedKFold"
   ]
  },
  {
   "cell_type": "code",
   "execution_count": 40,
   "id": "LJOWJNxTIRl5",
   "metadata": {
    "id": "LJOWJNxTIRl5"
   },
   "outputs": [],
   "source": [
    "# StratifiedKFold: 화가별 데이터 불균형을 해결하기 위해서 kfold에 라벨의 비율을 적용해서 데이터가 일정한 라벨 비율을 갖도록 하는 방법\n",
    "skf = sklearn.model_selection.StratifiedKFold(n_splits=5, shuffle=False) # 구현, 5 fold, shuffle 안함\n",
    "t = df.artist # 라벨\n",
    "\n",
    "# model 폴더 만드는 함수\n",
    "os.mkdir('drive/MyDrive/model')\n",
    "\n",
    "# StratifiedKFold 객체는 split에 라벨도 함께 적용하는 것으로, 라벨이 같은 비율을 갖도록 index를 반환해줌\n",
    "for fold, (train_index, test_index) in enumerate(skf.split(np.zeros(len(t)), t)):\n",
    "\n",
    "    # 하나의 fold를 실행하는 데 많은 시간이 걸리므로 fold 한 개마다 저장하는 식으로 했음\n",
    "    if fold != 0: # kfold 0 ~ 4까지 수행\n",
    "        print('skip '+str(fold))\n",
    "        continue\n",
    "\n",
    "    # train split\n",
    "    train_df = df.loc[train_index]\n",
    "\n",
    "    # validation split\n",
    "    val_df = df.loc[test_index]\n",
    "\n",
    "    # train 이미지 주소 가져오기\n",
    "    train_img_paths, train_labels = img_data(train_df)\n",
    "    \n",
    "    # val 이미지 주소 가져오기\n",
    "    val_img_paths, val_labels = img_data(val_df)\n",
    "    \n",
    "    # train, val, test loader를 album 함수로 생성\n",
    "    train_loader, val_loader, test_loader = album(train_img_paths, train_labels,val_img_paths, val_labels, test_img_paths)\n",
    "\n",
    "    earlystop = EarlyStopping()\n",
    "    \n",
    "    # 모델 선택\n",
    "    model = timm.create_model('tf_efficientnet_b4_ns', pretrained=True, num_classes=50) # noisy student b4 model → 5 fold이므로 5번 반복\n",
    "    model.eval() # evaluate 선언 → 가중치 동결\n",
    "\n",
    "    # optimizer: adam\n",
    "    optimizer = torch.optim.Adam(params = model.parameters(), lr=Default_param['Learning_rate'])\n",
    "    \n",
    "    # scheduler: steplr\n",
    "    scheduler = StepLR(optimizer, step_size=5, gamma=0.5)\n",
    "\n",
    "    # train 학습 후 저장\n",
    "    pred_model = train(model, optimizer, train_loader, val_loader, scheduler, device, earlystop)\n",
    "    torch.save(pred_model, '/content/drive/MyDrive/2nd_project/model/' + str(fold) + '.torch')\n",
    "\n",
    "    # test predict\n",
    "    temp = []\n",
    "    predict(pred_model, test_loader, device, temp)\n",
    "    \n",
    "    # 첫번째 model_pred 대입\n",
    "    first = temp[0]\n",
    "\n",
    "    # model_pred와 결합하여 최종적으로 하나의 tensor가 됨\n",
    "    for idx, i in enumerate(temp):\n",
    "        if idx!=0:\n",
    "            first =torch.cat([first.cpu(),i.cpu()],dim=0)\n",
    "\n",
    "    # fold 하나를 실행한 결과 tensor를 numpy로 바꿔 저장\n",
    "    np.save('/content/drive/MyDrive/2nd_project/model/' + str(fold) + '.npy', first.numpy())"
   ]
  },
  {
   "cell_type": "markdown",
   "id": "1dc89717",
   "metadata": {},
   "source": [
    "Noisy Student는 의도적으로 라벨을 제거한 일부 데이터를 학습에 활용하여 모델 성능을 향상시키는 방법입니다.\n",
    "\n",
    "- Teacher 신경망 : 라벨을 제거한 데이터를 활용하여 Student 신경망에게 라벨을 부여하며 학습을 진행\n",
    "\n",
    "- Student 신경망 : 학습을 한 후 새로운 Student 신경망을 만들고 자신이 Teacher 신경망이 되어 Student 신경망에게 학습을 진행\n",
    "\n",
    "이 과정을 반복하여 이미지 분류에 적절한 noise를 주어 성능을 향상시킵니다."
   ]
  },
  {
   "cell_type": "markdown",
   "id": "BnCvJ5ZLI0Gb",
   "metadata": {
    "id": "BnCvJ5ZLI0Gb"
   },
   "source": [
    "# Ⅲ. 결과 Voting"
   ]
  },
  {
   "cell_type": "markdown",
   "id": "dIkGj2wuiEpx",
   "metadata": {
    "id": "dIkGj2wuiEpx"
   },
   "source": [
    "EfficientNet_B4 베이스 모델을 실행하여 얻은 예측값 5개\n",
    "\n",
    "Noisy Student 모델을 실행하여 얻은 예측값 5개\n",
    "\n",
    "총 10개의 예측값을 활용하여 더 좋은 결과를 얻기 위해서 Voting 수행합니다."
   ]
  },
  {
   "cell_type": "code",
   "execution_count": 41,
   "id": "YVm_WEisIRr5",
   "metadata": {
    "colab": {
     "base_uri": "https://localhost:8080/"
    },
    "id": "YVm_WEisIRr5",
    "outputId": "7bb31367-a447-45bf-9526-55954da3b903"
   },
   "outputs": [
    {
     "name": "stdout",
     "output_type": "stream",
     "text": [
      "12670\n"
     ]
    }
   ],
   "source": [
    "# EfficientNet_B4를 반복하여 학습한 결과로 model에 저장된 kfold별 npy 파일을 모두 kfold 폴더로 이동\n",
    "# kfold로 이동된 npy 파일을 모두 불러와서 voting\n",
    "path = glob.glob('/content/drive/MyDrive/2nd_project/kfold/*.npy')\n",
    "temp = np.load(path[0])\n",
    "\n",
    "result = []\n",
    "\n",
    "# 모든 numpy 파일을 가져와서 더함 → voting\n",
    "for idx, i in enumerate(path):\n",
    "    if idx!=0:\n",
    "        temp += np.load(i)\n",
    "\n",
    "# argmax를 사용하여 그 값에서 가장 큰 값의 index를 반환\n",
    "for i in temp:\n",
    "    result.append(np.argmax(i))\n",
    "\n",
    "print(len(result))"
   ]
  },
  {
   "cell_type": "code",
   "execution_count": 42,
   "id": "rFFHhP90IRwL",
   "metadata": {
    "id": "rFFHhP90IRwL"
   },
   "outputs": [],
   "source": [
    "# 숫자로 변환된 label을 화가 이름으로 되돌려줌\n",
    "preds = le.inverse_transform(result)"
   ]
  },
  {
   "cell_type": "code",
   "execution_count": 43,
   "id": "NfNSmE4BIRyl",
   "metadata": {
    "id": "NfNSmE4BIRyl"
   },
   "outputs": [],
   "source": [
    "sample_submission = pd.read_csv('/content/drive/MyDrive/2nd_project/data/sample_submission.csv')\n",
    "sample_submission['artist'] = preds\n",
    "\n",
    "sample_submission.to_csv('/content/drive/MyDrive/2nd_project/sub_b4_stf.csv', index=False)"
   ]
  },
  {
   "cell_type": "code",
   "execution_count": null,
   "id": "958b271a",
   "metadata": {},
   "outputs": [],
   "source": []
  }
 ],
 "metadata": {
  "accelerator": "GPU",
  "colab": {
   "provenance": []
  },
  "gpuClass": "standard",
  "kernelspec": {
   "display_name": "Python 3 (ipykernel)",
   "language": "python",
   "name": "python3"
  },
  "language_info": {
   "codemirror_mode": {
    "name": "ipython",
    "version": 3
   },
   "file_extension": ".py",
   "mimetype": "text/x-python",
   "name": "python",
   "nbconvert_exporter": "python",
   "pygments_lexer": "ipython3",
   "version": "3.9.12"
  }
 },
 "nbformat": 4,
 "nbformat_minor": 5
}
